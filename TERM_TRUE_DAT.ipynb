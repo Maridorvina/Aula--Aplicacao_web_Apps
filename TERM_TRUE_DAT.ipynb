{
  "nbformat": 4,
  "nbformat_minor": 0,
  "metadata": {
    "colab": {
      "name": "TERM_TRUE.DAT.ipynb",
      "provenance": [],
      "mount_file_id": "1j6ZG0Ef6iaahDoJsxFuGS0zhIwhQa-tK",
      "authorship_tag": "ABX9TyNNfkDJEn+/Gg1W770W/r2W",
      "include_colab_link": true
    },
    "kernelspec": {
      "name": "python3",
      "display_name": "Python 3"
    },
    "language_info": {
      "name": "python"
    }
  },
  "cells": [
    {
      "cell_type": "markdown",
      "metadata": {
        "id": "view-in-github",
        "colab_type": "text"
      },
      "source": [
        "<a href=\"https://colab.research.google.com/github/Maridorvina/Aula--work-Aplicacao-webApps/blob/master/TERM_TRUE_DAT.ipynb\" target=\"_parent\"><img src=\"https://colab.research.google.com/assets/colab-badge.svg\" alt=\"Open In Colab\"/></a>"
      ]
    },
    {
      "cell_type": "code",
      "metadata": {
        "colab": {
          "base_uri": "https://localhost:8080/"
        },
        "id": "pV83kY95ckl6",
        "outputId": "9c265401-5d27-4ac9-c6e2-d36190a7cf2e"
      },
      "source": [
        "pip install beautifulSoup4"
      ],
      "execution_count": 16,
      "outputs": [
        {
          "output_type": "stream",
          "name": "stdout",
          "text": [
            "Requirement already satisfied: beautifulSoup4 in /usr/local/lib/python3.7/dist-packages (4.6.3)\n"
          ]
        }
      ]
    },
    {
      "cell_type": "markdown",
      "metadata": {
        "id": "fb3IN5VNP-l-"
      },
      "source": [
        "Fazer uma solicitação usando metodo GET para esse **link**"
      ]
    },
    {
      "cell_type": "code",
      "metadata": {
        "colab": {
          "base_uri": "https://localhost:8080/",
          "height": 53
        },
        "id": "-BnDsnpzORdj",
        "outputId": "5588d187-2d6d-45a9-ee29-6bb7c32350da"
      },
      "source": [
        "# Fazer a solicitação, e obter a informação do arquivo zip no link (ler e descompactar)\n",
        "\n",
        "# Utilizar o elemento HTML para extração da informação do arquivo\n",
        "#https://datawarehouse-true.s3-sa-east-1.amazonaws.com/teste-true/teste_true_term.zip\n",
        "\n",
        "import requests\n",
        "from bs4 import BeautifulSoup\n",
        "\n",
        "pagina = requests.get(\"https://datawarehouse-true.s3-sa-east-1.amazonaws.com/teste-true/teste_true_term.zip\")\n",
        "\n",
        "soup = BeautifulSoup ('htlml.parser')\n",
        "\n",
        "for link in soup.find_all('body'):\n",
        "    print(link.get('location.replace'))\n",
        "\n",
        "'''\n",
        "soup.find_all('body', {'onload':'location.replace'})'''"
      ],
      "execution_count": 25,
      "outputs": [
        {
          "output_type": "stream",
          "name": "stdout",
          "text": [
            "None\n"
          ]
        },
        {
          "output_type": "execute_result",
          "data": {
            "application/vnd.google.colaboratory.intrinsic+json": {
              "type": "string"
            },
            "text/plain": [
              "\"\\nsoup.find_all('body', {'onload':'location.replace'})\""
            ]
          },
          "metadata": {},
          "execution_count": 25
        }
      ]
    },
    {
      "cell_type": "code",
      "metadata": {
        "colab": {
          "base_uri": "https://localhost:8080/"
        },
        "id": "FGcBeWHN0FQ-",
        "outputId": "c0c10a37-b742-4399-ce25-6151467454c3"
      },
      "source": [
        "# Passo 1 - Abrir os arquivos encad_termicas.csv e TERM.DAT\n",
        "from google.colab import drive\n",
        "drive.mount('/content/drive')"
      ],
      "execution_count": null,
      "outputs": [
        {
          "output_type": "stream",
          "name": "stdout",
          "text": [
            "Mounted at /content/drive\n"
          ]
        }
      ]
    },
    {
      "cell_type": "code",
      "metadata": {
        "id": "WhnJjemv0VhX"
      },
      "source": [
        "# Passo 2 - Ler a tabela do arquivo e navegar através das linhas usando lçao de repetição\n",
        "import csv\n",
        "\n",
        "with open('/content/drive/MyDrive/teste_true_term/encad-termicas.csv', 'r') as arquivo:\n",
        "\n",
        "  tabela = arquivo.readlines()\n",
        "\n",
        "for linha in tabela:\n",
        "  if 'planilha' in linha:\n",
        "    print(tabela)\n",
        "\n",
        "    w.close\n"
      ],
      "execution_count": 85,
      "outputs": []
    },
    {
      "cell_type": "code",
      "metadata": {
        "colab": {
          "base_uri": "https://localhost:8080/",
          "height": 235
        },
        "id": "z0fxLjIAuSai",
        "outputId": "03463a3e-332b-401a-d2fd-2eeca7172bde"
      },
      "source": [
        "import csv\n",
        "\n",
        "with open('/content/drive/MyDrive/teste_true_term/encad-termicas.csv') as arquivo:\n",
        "    \n",
        "    tabela = csv.DictReader(arquivo, fieldnames=[\"jan\",\"fev\",\"mar\",\"abr\",\"mai\",\"jun\",\"jul\",\"ago\",\"set\",\"out\",\"nov\",\"dez\",\"futuro\\n\"])\n",
        "    \n",
        "    tabela.__next__()\n",
        "\n",
        "    for row in tabela:\n",
        "        print( row[\"jan\"] + ', ' + row[\"fev\"] + ', ' + row[\"mar\"] + ', ' + row[\"abr\"] + ', ' + row[\"mai\"] + ', ' + row[\"jun\"] + ', ' + row[\"jul\"] + ', ' + row[\"ago\"] + ', '+ row[\"set\"] + ', ' + row[\"out\"] + ', ' + row[\"nov\"] + ', ' +  row[\"dez\"] + ', ' + row[\"futuro\\n\"])"
      ],
      "execution_count": 87,
      "outputs": [
        {
          "output_type": "error",
          "ename": "TypeError",
          "evalue": "ignored",
          "traceback": [
            "\u001b[0;31m---------------------------------------------------------------------------\u001b[0m",
            "\u001b[0;31mTypeError\u001b[0m                                 Traceback (most recent call last)",
            "\u001b[0;32m<ipython-input-87-3501b00f450f>\u001b[0m in \u001b[0;36m<module>\u001b[0;34m()\u001b[0m\n\u001b[1;32m      8\u001b[0m \u001b[0;34m\u001b[0m\u001b[0m\n\u001b[1;32m      9\u001b[0m     \u001b[0;32mfor\u001b[0m \u001b[0mrow\u001b[0m \u001b[0;32min\u001b[0m \u001b[0mtabela\u001b[0m\u001b[0;34m:\u001b[0m\u001b[0;34m\u001b[0m\u001b[0;34m\u001b[0m\u001b[0m\n\u001b[0;32m---> 10\u001b[0;31m         \u001b[0mprint\u001b[0m\u001b[0;34m(\u001b[0m \u001b[0mrow\u001b[0m\u001b[0;34m[\u001b[0m\u001b[0;34m\"jan\"\u001b[0m\u001b[0;34m]\u001b[0m \u001b[0;34m+\u001b[0m \u001b[0;34m', '\u001b[0m \u001b[0;34m+\u001b[0m \u001b[0mrow\u001b[0m\u001b[0;34m[\u001b[0m\u001b[0;34m\"fev\"\u001b[0m\u001b[0;34m]\u001b[0m \u001b[0;34m+\u001b[0m \u001b[0;34m', '\u001b[0m \u001b[0;34m+\u001b[0m \u001b[0mrow\u001b[0m\u001b[0;34m[\u001b[0m\u001b[0;34m\"mar\"\u001b[0m\u001b[0;34m]\u001b[0m \u001b[0;34m+\u001b[0m \u001b[0;34m', '\u001b[0m \u001b[0;34m+\u001b[0m \u001b[0mrow\u001b[0m\u001b[0;34m[\u001b[0m\u001b[0;34m\"abr\"\u001b[0m\u001b[0;34m]\u001b[0m \u001b[0;34m+\u001b[0m \u001b[0;34m', '\u001b[0m \u001b[0;34m+\u001b[0m \u001b[0mrow\u001b[0m\u001b[0;34m[\u001b[0m\u001b[0;34m\"mai\"\u001b[0m\u001b[0;34m]\u001b[0m \u001b[0;34m+\u001b[0m \u001b[0;34m', '\u001b[0m \u001b[0;34m+\u001b[0m \u001b[0mrow\u001b[0m\u001b[0;34m[\u001b[0m\u001b[0;34m\"jun\"\u001b[0m\u001b[0;34m]\u001b[0m \u001b[0;34m+\u001b[0m \u001b[0;34m', '\u001b[0m \u001b[0;34m+\u001b[0m \u001b[0mrow\u001b[0m\u001b[0;34m[\u001b[0m\u001b[0;34m\"jul\"\u001b[0m\u001b[0;34m]\u001b[0m \u001b[0;34m+\u001b[0m \u001b[0;34m', '\u001b[0m \u001b[0;34m+\u001b[0m \u001b[0mrow\u001b[0m\u001b[0;34m[\u001b[0m\u001b[0;34m\"ago\"\u001b[0m\u001b[0;34m]\u001b[0m \u001b[0;34m+\u001b[0m \u001b[0;34m', '\u001b[0m\u001b[0;34m+\u001b[0m \u001b[0mrow\u001b[0m\u001b[0;34m[\u001b[0m\u001b[0;34m\"set\"\u001b[0m\u001b[0;34m]\u001b[0m \u001b[0;34m+\u001b[0m \u001b[0;34m', '\u001b[0m \u001b[0;34m+\u001b[0m \u001b[0mrow\u001b[0m\u001b[0;34m[\u001b[0m\u001b[0;34m\"out\"\u001b[0m\u001b[0;34m]\u001b[0m \u001b[0;34m+\u001b[0m \u001b[0;34m', '\u001b[0m \u001b[0;34m+\u001b[0m \u001b[0mrow\u001b[0m\u001b[0;34m[\u001b[0m\u001b[0;34m\"nov\"\u001b[0m\u001b[0;34m]\u001b[0m \u001b[0;34m+\u001b[0m \u001b[0;34m', '\u001b[0m \u001b[0;34m+\u001b[0m  \u001b[0mrow\u001b[0m\u001b[0;34m[\u001b[0m\u001b[0;34m\"dez\"\u001b[0m\u001b[0;34m]\u001b[0m \u001b[0;34m+\u001b[0m \u001b[0;34m', '\u001b[0m \u001b[0;34m+\u001b[0m \u001b[0mrow\u001b[0m\u001b[0;34m[\u001b[0m\u001b[0;34m\"futuro\\n\"\u001b[0m\u001b[0;34m]\u001b[0m\u001b[0;34m)\u001b[0m\u001b[0;34m\u001b[0m\u001b[0;34m\u001b[0m\u001b[0m\n\u001b[0m",
            "\u001b[0;31mTypeError\u001b[0m: can only concatenate str (not \"NoneType\") to str"
          ]
        }
      ]
    },
    {
      "cell_type": "code",
      "metadata": {
        "colab": {
          "base_uri": "https://localhost:8080/"
        },
        "id": "tBmO-hNws_Ad",
        "outputId": "696d2e86-e970-4661-ccc4-c8827f0aa24e"
      },
      "source": [
        "import csv\n",
        "\n",
        "with open('/content/drive/MyDrive/teste_true_term/encad-termicas.csv', 'r') as arquivo:  \n",
        "  tabela = arquivo.readlines()\n",
        "\n",
        "'''for linha in tabela:\n",
        "  if 'planilha' in linha:'''\n",
        "    print(tabela)"
      ],
      "execution_count": 70,
      "outputs": [
        {
          "output_type": "stream",
          "name": "stdout",
          "text": [
            "['jan,fev,mar,abr,mai,jun,jul,ago,set,out,nov,dez,futuro\\n', '25.84,6.86,0.0,0.0,0.0,0.0,140.0,140.0,132.0,140.0,0.0,0.0\\n', '12.67,5.29,101.0,0.0,0.0,100.5,100.5,100.5,100.5,100.5,100.5,100.5\\n', '4.04,11.75,0.0,0.0,0.0,264.0,264.0,264.0,240.0,240.0,240.0,264.0\\n', '14.29,13.7,79.0,0.0,0.0,75.0,0.0,75.0,75.0,75.0,75.0,75.0\\n']\n"
          ]
        }
      ]
    },
    {
      "cell_type": "code",
      "metadata": {
        "colab": {
          "base_uri": "https://localhost:8080/",
          "height": 148
        },
        "id": "xmSlA5oeldQa",
        "outputId": "1e54ac8b-260f-4471-caac-8a09e1a4ea7b"
      },
      "source": [
        "# Editar arquivo TERM.DAT\n",
        "\n",
        "import csv\n",
        "\n",
        "with open('/content/drive/MyDrive/teste_true_term/TERM.DAT', \"a\") as arquivo:\n",
        "\n",
        "arquivo.write(\"62, SEROPEDICA, 386.0, 100.0\\47,TERMORIO, 1036.0, 100.0\\140,MAUA 3, 591.0, 97.0\\201,APARECIDA, 166.0, 100.0\")"
      ],
      "execution_count": 89,
      "outputs": [
        {
          "output_type": "error",
          "ename": "IndentationError",
          "evalue": "ignored",
          "traceback": [
            "\u001b[0;36m  File \u001b[0;32m\"<ipython-input-89-48d703ee0985>\"\u001b[0;36m, line \u001b[0;32m7\u001b[0m\n\u001b[0;31m    arquivo.write(\"62, SEROPEDICA, 386.0, 100.0\\47,TERMORIO, 1036.0, 100.0\\140,MAUA 3, 591.0, 97.0\\201,APARECIDA, 166.0, 100.0\")\u001b[0m\n\u001b[0m          ^\u001b[0m\n\u001b[0;31mIndentationError\u001b[0m\u001b[0;31m:\u001b[0m expected an indented block\n"
          ]
        }
      ]
    },
    {
      "cell_type": "code",
      "metadata": {
        "colab": {
          "base_uri": "https://localhost:8080/"
        },
        "id": "fO20W8zQA9lL",
        "outputId": "058663fc-5f7b-401f-f053-3051b22ff259"
      },
      "source": [
        "import csv\n",
        "\n",
        "# Este bloco realiza a leitura, acessando cada coluna como se fosse um dicionário de vetores (com o objeto retornado pela função csv.DictReader))\n",
        "with open('/content/drive/MyDrive/teste_true_term/encad-termicas.csv') as arquivo_teste:\n",
        "\n",
        "  tabela = csv.DictReader(arquivo_teste, fieldnames=[\"SEROPEDICA\", \"TERMORIO\", \"MAUA\", \"APARECIDA\"])\n",
        "\n",
        "  tabela.__next__()\n",
        "\n",
        "  for row in tabela:\n",
        "    print( row[\"SEROPEDICA\"], ', ' + row[\"TERMORIO\"] + ', ' + row[\"MAUA\"] + ', ' + row[\"APARECIDA\"])"
      ],
      "execution_count": null,
      "outputs": [
        {
          "output_type": "stream",
          "name": "stdout",
          "text": [
            "62 , SEROPEDICA, 386.0, 100.0\n",
            "47 , TERMORIO, 1036.0, 100.0\n",
            "140 , MAUA 3, 591.0, 97.0\n",
            "201 , APARECIDA, 166.0, 100.0\n"
          ]
        }
      ]
    },
    {
      "cell_type": "code",
      "metadata": {
        "id": "UJvOviGVilG_"
      },
      "source": [
        "import csv\n",
        "\n",
        "with open('/content/drive/MyDrive/teste_true_term/encad-termicas.csv', 'w', newline='') as file:\n",
        "    \n",
        "    writer = csv.writer(file)\n",
        "\n",
        "    writer.writerow([\"jan\",\"fev\",\"mar\",\"abr\",\"mai\",\"jun\",\"jul\",\"ago\",\"set\",\"out\",\"nov\",\"dez\",\"futuro\"])\n",
        "    writer.writerow([25.84, 6.86, 0.00, 0.00, 0.00, 0.00, 140.00, 140.00, 132.00, 140.00, 0.00, 0.00])\n",
        "    writer.writerow([12.67, 5.29, 101.00, 0.00, 0.00, 100.50, 100.50, 100.50, 100.50, 100.50, 100.50, 100.50])\n",
        "    writer.writerow([4.04, 11.75, 0.00, 0.00, 0.00, 264.00, 264.00, 264.00, 240.00, 240.00, 240.00, 264.00])\n",
        "    writer.writerow([14.29, 13.7, 79.00, 0.00, 0.00, 75.00, 0.00, 75.00, 75.00, 75.00, 75.00, 75.00])\n",
        "\n"
      ],
      "execution_count": 40,
      "outputs": []
    }
  ]
}